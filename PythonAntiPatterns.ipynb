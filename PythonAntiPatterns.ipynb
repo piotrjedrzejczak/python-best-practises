{
 "metadata": {
  "language_info": {
   "codemirror_mode": {
    "name": "ipython",
    "version": 3
   },
   "file_extension": ".py",
   "mimetype": "text/x-python",
   "name": "python",
   "nbconvert_exporter": "python",
   "pygments_lexer": "ipython3",
   "version": "3.8.0-final"
  },
  "orig_nbformat": 2,
  "kernelspec": {
   "name": "python_defaultSpec_1600885949128",
   "display_name": "Python 3.8.0 64-bit"
  }
 },
 "nbformat": 4,
 "nbformat_minor": 2,
 "cells": [
  {
   "source": [
    "# Python Anti Patterns\n",
    "\n",
    "## List of Python Anti Patterns from a startup company Quanitfied Code.\n",
    "\n",
    "### Source https://docs.quantifiedcode.com/python-anti-patterns/index.html"
   ],
   "cell_type": "markdown",
   "metadata": {}
  },
  {
   "source": [
    "# Correctness"
   ],
   "cell_type": "markdown",
   "metadata": {}
  },
  {
   "source": [
    "## Don't assign lambda functions to variables, use def instead."
   ],
   "cell_type": "markdown",
   "metadata": {}
  },
  {
   "source": [
    "# No\n",
    "\n",
    "f = lambda x: 2 * x\n",
    "\n",
    "# Yes\n",
    "\n",
    "def f(x): return 2 * x\n",
    "\n",
    "# The first form means that the name of the resulting function object is specifically ‘f’ instead of the generic ‘<lambda>’.\n",
    "# This is more useful for tracebacks and string representations in general.\n",
    "# The use of the assignment statement eliminates the sole benefit a lambda expression can offer,\n",
    "# over an explicit def statement (i.e. that it can be embedded inside a larger expression)\n"
   ],
   "cell_type": "code",
   "metadata": {},
   "execution_count": null,
   "outputs": []
  },
  {
   "source": [
    "## Keep your except clauses in the right order."
   ],
   "cell_type": "markdown",
   "metadata": {}
  },
  {
   "cell_type": "code",
   "execution_count": null,
   "metadata": {},
   "outputs": [],
   "source": [
    "try:\n",
    "    5 / 0\n",
    "\n",
    "except Exception as e:\n",
    "    print(\"Exception\")\n",
    "\n",
    "# This will be never executed\n",
    "except ZeroDivisionError as e:\n",
    "    print(\"ZeroDivisionError\")\n",
    "\n",
    "# Python will search for the first exception clause which matches the exception type that occurred. It doesn’t need to be an exact match.\n",
    "# If the exception clause represents a base class of the raised exception, then Python considers that exception clause to be a match.\n",
    "# If a ZeroDivisionError exception is raised and the first exception clause is Exception,\n",
    "# then the Exception clause will execute because ZeroDivisionError is a sub class of Exception.\n",
    "# Therefore, more specific exception clauses of sub classes should always be placed before the exception clauses of their base classes\n",
    "# to ensure that exception handling is as specific and as helpful as possible."
   ]
  },
  {
   "source": [
    "## Call super() the rigth way."
   ],
   "cell_type": "markdown",
   "metadata": {}
  },
  {
   "cell_type": "code",
   "execution_count": null,
   "metadata": {},
   "outputs": [],
   "source": [
    "class Rectangle(object):\n",
    "    def __init__(self, width, height):\n",
    "        self.width = width\n",
    "        self.height = height\n",
    "        self.area = width * height\n",
    "\n",
    "class Square(Rectangle):\n",
    "    def __init__(self, length):\n",
    "        super().__init__(length, length)\n",
    "\n",
    "s = Square(5)\n",
    "print(s.area)  # 25"
   ]
  },
  {
   "source": [
    "## Be careful when using else on for loop without a break."
   ],
   "cell_type": "markdown",
   "metadata": {}
  },
  {
   "cell_type": "code",
   "execution_count": null,
   "metadata": {
    "tags": []
   },
   "outputs": [],
   "source": [
    "def contains_magic_number(list, magic_number):\n",
    "    for i in list:\n",
    "        if i == magic_number:\n",
    "            print(\"This list contains the magic number\")\n",
    "            # You probably need a break statment here.\n",
    "    else:\n",
    "        print(\"This list does NOT contain the magic number\")\n",
    "\n",
    "contains_magic_number(range(10), 5)\n",
    "\n",
    "# The else clause of a loop is executed when the loop sequence is empty.\n",
    "# When a loop specifies no break statement, the else clause will always execute, because the loop sequence will eventually always become empty.\n",
    "# Sometimes this is the intended behavior, in which case you can ignore this error.\n",
    "# But most times this is not the intended behavior, and you should therefore review the code in question."
   ]
  },
  {
   "source": [
    "## Use else statements in loops, if appropriate."
   ],
   "cell_type": "markdown",
   "metadata": {}
  },
  {
   "cell_type": "code",
   "execution_count": null,
   "metadata": {},
   "outputs": [],
   "source": [
    "# No\n",
    "\n",
    "l = [1, 2, 3]\n",
    "magic_number = 4\n",
    "found = False\n",
    "\n",
    "for n in l:\n",
    "    if n == magic_number:\n",
    "        found = True\n",
    "        print(\"Magic number found\")\n",
    "        break\n",
    "\n",
    "if not found:\n",
    "    print(\"Magic number not found\")\n",
    "\n",
    "# Yes\n",
    "\n",
    "l = [1, 2, 3]\n",
    "magic_number = 4\n",
    "\n",
    "for n in l:\n",
    "    if n == magic_number:\n",
    "        print(\"Magic number found\")\n",
    "        break\n",
    "# The else clause is always executed, unless break or return was executed.\n",
    "else:\n",
    "    print(\"Magic number not found\")"
   ]
  },
  {
   "source": [
    "## Don't use mutable default value as an argument."
   ],
   "cell_type": "markdown",
   "metadata": {}
  },
  {
   "cell_type": "code",
   "execution_count": null,
   "metadata": {},
   "outputs": [],
   "source": [
    "# No\n",
    "\n",
    "def append(number, number_list=[]):\n",
    "    number_list.append(number)\n",
    "    print(number_list)\n",
    "    return number_list\n",
    "\n",
    "append(5) # expecting: [5], actual: [5]\n",
    "append(7) # expecting: [7], actual: [5, 7]\n",
    "append(2) # expecting: [2], actual: [5, 7, 2]\n",
    "\n",
    "# Yes\n",
    "\n",
    "# Keyword None is the sentinel value representing empty list.\n",
    "def append(number, number_list=None):\n",
    "    if number_list is None:\n",
    "        number_list = []\n",
    "    number_list.append(number)\n",
    "    print(number_list)\n",
    "    return number_list\n",
    "\n",
    "append(5) # expecting: [5], actual: [5]\n",
    "append(7) # expecting: [7], actual: [7]\n",
    "append(2) # expecting: [2], actual: [2]"
   ]
  },
  {
   "source": [
    "## Specify exception types."
   ],
   "cell_type": "markdown",
   "metadata": {}
  },
  {
   "cell_type": "code",
   "execution_count": null,
   "metadata": {},
   "outputs": [],
   "source": [
    "# No\n",
    "\n",
    "def divide(a, b):\n",
    "    try:\n",
    "        result = a / b\n",
    "    except:\n",
    "        result = None\n",
    "    return result\n",
    "\n",
    "# Yes\n",
    "\n",
    "def divide(a, b):\n",
    "\n",
    "    result = None\n",
    "\n",
    "    try:\n",
    "        result = a / b\n",
    "    except ZeroDivisionError:\n",
    "        print(\"Type error: division by 0.\")\n",
    "    except TypeError:\n",
    "        # E.g., if b is a string\n",
    "        print(\"Type error: division by '{0}'.\".format(b))\n",
    "    except Exception as e:\n",
    "        # handle any other exception\n",
    "        print(\"Error '{0}' occured. Arguments {1}.\".format(e.message, e.args))\n",
    "    else:\n",
    "        # Excecutes if no exception occured, this is rather optional.\n",
    "        print(\"No errors\")\n",
    "    finally:\n",
    "        # Executes always, good way of cleaning after yourself.\n",
    "        if result is None:\n",
    "            result = 0\n",
    "\n",
    "    return result\n"
   ]
  },
  {
   "source": [
    "# Readability"
   ],
   "cell_type": "markdown",
   "metadata": {}
  },
  {
   "source": [
    "## Ask for permission instead of forgivness. (EAFP)"
   ],
   "cell_type": "markdown",
   "metadata": {}
  },
  {
   "cell_type": "code",
   "execution_count": null,
   "metadata": {},
   "outputs": [],
   "source": [
    "# No\n",
    "\n",
    "import os\n",
    "\n",
    "# Violates EAFP coding style.\n",
    "if os.path.exists(\"file.txt\"):\n",
    "    os.unlink(\"file.txt\")\n",
    "\n",
    "# Yes\n",
    "\n",
    "import os\n",
    "\n",
    "try:\n",
    "    os.unlink(\"file.txt\")\n",
    "# Raised when file does not exist.\n",
    "except OSError:\n",
    "    pass"
   ]
  }
 ]
}