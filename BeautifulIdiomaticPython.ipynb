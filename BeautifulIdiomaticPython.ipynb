{
 "metadata": {
  "language_info": {
   "codemirror_mode": {
    "name": "ipython",
    "version": 3
   },
   "file_extension": ".py",
   "mimetype": "text/x-python",
   "name": "python",
   "nbconvert_exporter": "python",
   "pygments_lexer": "ipython3",
   "version": "3.8.0-final"
  },
  "orig_nbformat": 2,
  "kernelspec": {
   "name": "python_defaultSpec_1600279384477",
   "display_name": "Python 3.8.0 64-bit"
  }
 },
 "nbformat": 4,
 "nbformat_minor": 2,
 "cells": [
  {
   "cell_type": "markdown",
   "metadata": {},
   "source": [
    "# Transforming code into beautiful idiomatic python by Reymond Hettinger"
   ]
  },
  {
   "cell_type": "markdown",
   "metadata": {},
   "source": [
    "### Notes from Reymond Hettinger Keynote from PyCon 2013\n",
    "\n",
    "https://www.youtube.com/watch?v=OSGv2VnC0go"
   ]
  },
  {
   "cell_type": "markdown",
   "metadata": {},
   "source": [
    "## General Notes\n",
    "\n",
    "- Replace traditional index manipulation with Python's core looping idioms.\n",
    "- Learn advanced techniques with for-else clauses and the two argument form of iter().\n",
    "- One logical line of code equals one sentence in English."
   ]
  },
  {
   "cell_type": "markdown",
   "metadata": {},
   "source": [
    "## For Loops"
   ]
  },
  {
   "cell_type": "code",
   "execution_count": null,
   "metadata": {},
   "outputs": [],
   "source": [
    "# Looping over a range of numbers\n",
    "\n",
    "# Bad\n",
    "\n",
    "for i in [0, 1, 2, 3, 4, 5]\n",
    "    print(i)\n",
    "\n",
    "# Good - Doesn't consume as much memory as a list, because it only stores start, stop and step values.\n",
    "\n",
    "for i in range(6):\n",
    "    print(i)\n"
   ]
  },
  {
   "cell_type": "code",
   "execution_count": null,
   "metadata": {},
   "outputs": [],
   "source": [
    "# Looping backwards\n",
    "\n",
    "colors = ['red', 'green', 'blue']\n",
    "\n",
    "# Bad\n",
    "\n",
    "for i in range(len(colors)-1, -1, -1):\n",
    "    print(colors[i])\n",
    "\n",
    "# Good\n",
    "\n",
    "for color in reversed(colors):\n",
    "    print(color)\n",
    "\n"
   ]
  },
  {
   "cell_type": "code",
   "execution_count": null,
   "metadata": {
    "tags": []
   },
   "outputs": [],
   "source": [
    "# Looping over a collection and indicies\n",
    "\n",
    "colors = ['red', 'green', 'blue']\n",
    "\n",
    "# Bad\n",
    "\n",
    "for i in range(len(colors)):\n",
    "    print(i, '-->', colors[i])\n",
    "\n",
    "# Good\n",
    "\n",
    "for i, color in enumerate(colors):\n",
    "    print(i, '-->', color)\n",
    "\n"
   ]
  },
  {
   "cell_type": "code",
   "execution_count": null,
   "metadata": {},
   "outputs": [],
   "source": [
    "# Looping over two collections\n",
    "\n",
    "colors = ['red', 'green', 'blue']\n",
    "names = ['piotr', 'julian', 'florian']\n",
    "\n",
    "# Bad\n",
    "\n",
    "n = min(len(names), len(colors))\n",
    "for i in range(n):\n",
    "    print(names[i], '-->', colors[n])\n",
    "\n",
    "# Good\n",
    "\n",
    "for name, color in zip(names, colors)\n",
    "    print(name, '-->', color)\n",
    "\n"
   ]
  },
  {
   "cell_type": "code",
   "execution_count": null,
   "metadata": {},
   "outputs": [],
   "source": [
    "# Looping in sorted order\n",
    "\n",
    "colors = ['red', 'green', 'blue']\n",
    "\n",
    "# Good\n",
    "\n",
    "for color in sorted(colors):\n",
    "    print(color)\n",
    "\n",
    "# Reverse order\n",
    "\n",
    "for color in sorted(colors, reverse=True):\n",
    "    print(color)\n"
   ]
  },
  {
   "cell_type": "code",
   "execution_count": null,
   "metadata": {},
   "outputs": [],
   "source": [
    "# Custom sort order\n",
    "\n",
    "colors = ['red', 'green', 'blue']\n",
    "\n",
    "# Bad\n",
    "\n",
    "def compare_length(c1, c2):\n",
    "    if len(c1) < len(c2): return -1\n",
    "    if len(c1) > len(c2): return 1\n",
    "    return 0\n",
    "\n",
    "print(sorted(colors, cmp=compare_length))\n",
    "\n",
    "# Good - Use Key Functions\n",
    "\n",
    "print(sorted(colors, key=len))\n",
    "\n"
   ]
  },
  {
   "cell_type": "code",
   "execution_count": null,
   "metadata": {},
   "outputs": [],
   "source": [
    "# Call a functions until a sentinel value\n",
    "\n",
    "# Bad\n",
    "\n",
    "blocks = []\n",
    "while True:\n",
    "    block = f.read(32)\n",
    "    if block == '':\n",
    "        break\n",
    "    blocks.append(block)\n",
    "\n",
    "# Good\n",
    "\n",
    "blocks = []\n",
    "for block in iter(partial(f.read, 32), ''):\n",
    "    blocks.append(block)\n"
   ]
  },
  {
   "cell_type": "code",
   "execution_count": null,
   "metadata": {},
   "outputs": [],
   "source": [
    "# Distinguish multiple exit points in loops\n",
    "\n",
    "# Bad\n",
    "\n",
    "def find(seq, target):\n",
    "    found = False\n",
    "    for i, value in enumerate(seq):\n",
    "        if value == target:\n",
    "            found = True\n",
    "            break\n",
    "    if not found:\n",
    "        return -1\n",
    "    return i\n",
    "\n",
    "# Good\n",
    "\n",
    "def find(seq, target):\n",
    "    for i, value in enumerate(seq):\n",
    "        if value == target:\n",
    "            break\n",
    "    else:\n",
    "        return -1\n",
    "    return i\n",
    "\n"
   ]
  },
  {
   "cell_type": "markdown",
   "metadata": {},
   "source": [
    "## Dictionaries"
   ]
  },
  {
   "cell_type": "code",
   "execution_count": null,
   "metadata": {},
   "outputs": [],
   "source": [
    "# Looping over dict keys\n",
    "\n",
    "d = {'jeden': 1, 'dwa': 2, 'trzy': 3}\n",
    "\n",
    "for k in d:\n",
    "    print(k)\n",
    "\n",
    "# If you're mutating the dict while looping on it you should do this instead:\n",
    "\n",
    "for k in d.keys():\n",
    "    if k.startswith('j'):\n",
    "        del d[k]"
   ]
  },
  {
   "cell_type": "code",
   "execution_count": null,
   "metadata": {
    "tags": []
   },
   "outputs": [],
   "source": [
    "# Creating a dictionary from a list of keys.\n",
    "\n",
    "print(dict.fromkeys(['piotr', 'julian', 'florian']))"
   ]
  },
  {
   "cell_type": "code",
   "execution_count": null,
   "metadata": {},
   "outputs": [],
   "source": [
    "# Looping over dict keys and values\n",
    "\n",
    "d = {'jeden': 1, 'dwa': 2, 'trzy': 3}\n",
    "\n",
    "for k, v in d.items():\n",
    "    print(k, '-->', v)\n",
    "\n"
   ]
  },
  {
   "cell_type": "code",
   "execution_count": null,
   "metadata": {},
   "outputs": [],
   "source": [
    "# Construct a dictionary from pairs\n",
    "\n",
    "colors = ['red', 'green', 'blue']\n",
    "names = ['piotr', 'julian', 'florian']\n",
    "\n",
    "d = dict(zip(colors, names))\n",
    "\n",
    "# Using enumerate on a single collecion\n",
    "\n",
    "d = dict(enumerate(names))\n"
   ]
  },
  {
   "cell_type": "code",
   "execution_count": null,
   "metadata": {},
   "outputs": [],
   "source": [
    "# Counting with dictionaries\n",
    "\n",
    "colors = ['red', 'green', 'blue']\n",
    "\n",
    "# Good, but can be better\n",
    "\n",
    "d = {}\n",
    "for color in colors:\n",
    "    if color not in d:\n",
    "        d[color] = 0\n",
    "    d[color] += 1\n",
    "\n",
    "# Better\n",
    "\n",
    "d = {}\n",
    "for color in colors:\n",
    "    d[color] = d.get(color, 0) + 1\n",
    "\n",
    "# Beautiful - but get to know the defaultdict first.\n",
    "\n",
    "from collections import defaultdict\n",
    "\n",
    "d = defaultdict(int)\n",
    "for color in colors:\n",
    "    d[color] += 1\n",
    "\n"
   ]
  },
  {
   "cell_type": "code",
   "execution_count": null,
   "metadata": {},
   "outputs": [],
   "source": [
    "# Grouping with dictionaries\n",
    "\n",
    "colors = ['red', 'green', 'blue']\n",
    "\n",
    "# Good, but can be better\n",
    "\n",
    "d = {}\n",
    "for color in colors:\n",
    "    key = len(color)\n",
    "    if key not in d:\n",
    "        d[key] = []\n",
    "    d[key].append(color)\n",
    "\n",
    "# Better\n",
    "\n",
    "d = {}\n",
    "for color in colors:\n",
    "    key = len(color)\n",
    "    d.setdefault(key, []).append(color)\n",
    "\n",
    "# Beautiful - but get to know the defaultdict first.\n",
    "\n",
    "d = defaultdict(list)\n",
    "for color in colors:\n",
    "    key = len(color)\n",
    "    d[key].append(color)\n",
    "\n"
   ]
  },
  {
   "cell_type": "code",
   "execution_count": null,
   "metadata": {},
   "outputs": [],
   "source": [
    "# Is a dictionary popitem() atomic? - It is \n",
    "\n",
    "d = {'jeden': 1, 'dwa': 2, 'trzy': 3}\n",
    "\n",
    "while d:\n",
    "    key, value = d.popitem()\n",
    "    print(key, '-->', value)"
   ]
  },
  {
   "cell_type": "code",
   "execution_count": null,
   "metadata": {},
   "outputs": [],
   "source": [
    "# linking dictionaries together\n",
    "\n",
    "defaults = {'jeden': 1, 'dwa': 2, 'trzy': 3}\n",
    "parser = argparse.ArgumentParser()\n",
    "parser.add_argument('-u', '--user')\n",
    "parser.add_argument('-c', '--color')\n",
    "namespace = parser.parse_args([])\n",
    "command_line_args = {k:v for k, v in vars(namespace).items() if v}\n",
    "\n",
    "# Old\n",
    "\n",
    "d = defaults.copy()\n",
    "d.update(os.environ)\n",
    "d.update(command_line_args)\n",
    "\n",
    "# Better\n",
    "\n",
    "d = ChainMap(command_line_args, os.environ, defaults)\n",
    "\n"
   ]
  },
  {
   "cell_type": "markdown",
   "metadata": {},
   "source": [
    "## General Stuff"
   ]
  },
  {
   "cell_type": "code",
   "execution_count": null,
   "metadata": {},
   "outputs": [],
   "source": [
    "# Clarify function calls with keyword args.\n",
    "\n",
    "# Bad\n",
    "\n",
    "twitter_search('@obama', False, 20, True)\n",
    "\n",
    "# Good\n",
    "\n",
    "twitter_search('@obama', retweets=False, numtweets=20, popular=True)\n"
   ]
  },
  {
   "cell_type": "code",
   "execution_count": null,
   "metadata": {},
   "outputs": [],
   "source": [
    "# Clarify multiple return values with namedtuples.\n",
    "\n",
    "# Bad Example\n",
    "\n",
    "doctest.testmod()\n",
    "(0, 4)\n",
    "\n",
    "# Good\n",
    "\n",
    "doctest.testmod()\n",
    "TestResults(failed=0, attempted=4)\n"
   ]
  },
  {
   "cell_type": "code",
   "execution_count": null,
   "metadata": {},
   "outputs": [],
   "source": [
    "# Unpackig sequences\n",
    "\n",
    "p = 'Reymond', 'Hettinger', 0x30, 'python@example.com'\n",
    "\n",
    "# Bad\n",
    "\n",
    "name = p[0]\n",
    "surname = p[1]\n",
    "age = p[2]\n",
    "email = p[3]\n",
    "\n",
    "# Good\n",
    "\n",
    "name, surname, age, email = p"
   ]
  },
  {
   "cell_type": "code",
   "execution_count": null,
   "metadata": {},
   "outputs": [],
   "source": [
    "# Updating multiple state variables\n",
    "\n",
    "# Bad\n",
    "\n",
    "def fibonacci(n):\n",
    "    x = 0\n",
    "    y = 1\n",
    "    for i in range(n):\n",
    "        print x\n",
    "        t = y\n",
    "        y = x + y\n",
    "        x = t\n",
    "\n",
    "# Good\n",
    "\n",
    "def fibonacci(n):\n",
    "    x, y = 0, 1\n",
    "    for i in range(n):\n",
    "        print x\n",
    "        x, y = y, x+y"
   ]
  },
  {
   "cell_type": "markdown",
   "metadata": {},
   "source": [
    "## Efficiency - Don't move data around unnecessarily."
   ]
  },
  {
   "cell_type": "code",
   "execution_count": null,
   "metadata": {},
   "outputs": [],
   "source": [
    "# Concatenating Strings\n",
    "\n",
    "# Bad\n",
    "\n",
    "x = 's' + 't'\n",
    "\n",
    "# Good \n",
    "\n",
    "x = 's'.join('t')"
   ]
  },
  {
   "cell_type": "code",
   "execution_count": null,
   "metadata": {},
   "outputs": [],
   "source": [
    "# Updating sequences\n",
    "\n",
    "colors = ['red', 'green', 'blue']\n",
    "\n",
    "# Bad\n",
    "\n",
    "del colors[0]\n",
    "colors.pop(0)\n",
    "colors.insert(0, 'black')\n",
    "\n",
    "# Good\n",
    "\n",
    "from collections import deque\n",
    "\n",
    "colors = deque(['red', 'green', 'blue'])\n",
    "\n",
    "del colors[0]\n",
    "colors.popleft(0)\n",
    "colors.appendleft('black')\n"
   ]
  },
  {
   "cell_type": "code",
   "execution_count": null,
   "metadata": {},
   "outputs": [],
   "source": []
  }
 ]
}